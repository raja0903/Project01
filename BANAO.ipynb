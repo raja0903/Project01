{
 "cells": [
  {
   "cell_type": "code",
   "execution_count": 1,
   "id": "c856fc50",
   "metadata": {},
   "outputs": [],
   "source": [
    "# Installing required libraries\n",
    "\n",
    "from selenium import webdriver\n",
    "from selenium.webdriver.common.by import By\n",
    "import pandas as pd\n",
    "from selenium.webdriver.support.select import Select\n",
    "from selenium.webdriver.support.ui import Select\n",
    "import time"
   ]
  },
  {
   "cell_type": "code",
   "execution_count": 2,
   "id": "63a0b4ce",
   "metadata": {},
   "outputs": [],
   "source": [
    "driver=webdriver.Chrome()  # setting up the driver"
   ]
  },
  {
   "cell_type": "code",
   "execution_count": 3,
   "id": "70f0f350",
   "metadata": {},
   "outputs": [],
   "source": [
    "url='https://www.amazon.in/s?rh=n%3A6612025031&fs=true&ref=lp_6612025031_sar'\n",
    "driver.get(url)"
   ]
  },
  {
   "cell_type": "code",
   "execution_count": 4,
   "id": "4c69ddaf",
   "metadata": {},
   "outputs": [
    {
     "name": "stdout",
     "output_type": "stream",
     "text": [
      "0\n",
      "1\n",
      "2\n",
      "3\n",
      "4\n",
      "5\n",
      "6\n",
      "7\n",
      "8\n",
      "9\n",
      "10\n",
      "11\n",
      "12\n",
      "13\n",
      "14\n",
      "15\n",
      "16\n",
      "17\n",
      "18\n",
      "19\n",
      "20\n",
      "21\n",
      "22\n",
      "23\n",
      "24\n",
      "25\n",
      "26\n",
      "27\n",
      "28\n",
      "29\n",
      "30\n",
      "31\n",
      "32\n",
      "0\n",
      "1\n",
      "2\n",
      "3\n"
     ]
    }
   ],
   "source": [
    "# creating list of all required columns\n",
    "product_name=[]\n",
    "price=[]\n",
    "rating=[]\n",
    "seller=[]\n",
    "def finding_page():\n",
    "    # creating a list to iterate through each required element of the page\n",
    "    content=driver.find_elements(By.XPATH,\"//div[@class='a-section a-spacing-small puis-padding-left-small puis-padding-right-small']\")\n",
    "\n",
    "    for i in range(len(content)):  # iterating through each element\n",
    "        print(i)\n",
    "\n",
    "        content1=driver.find_elements(By.XPATH,\"//div[@class='a-section a-spacing-small puis-padding-left-small puis-padding-right-small']\")\n",
    "\n",
    "        product_name.append(content1[i].find_element(By.XPATH,\".//h2//a//span\").text.split('|')[0]) # getting product name\n",
    "\n",
    "        try:\n",
    "            price.append(content1[i].find_element(By.XPATH,\".//span[@class='a-price']\").text) # if price is there then use it otherwise append empty string\n",
    "        except:\n",
    "            price.append('')\n",
    "\n",
    "        rating.append(content1[i].find_element(By.XPATH,\".//span[@class='a-size-base']\").text)  # getting the ratings out of 5.\n",
    "\n",
    "        driver.execute_script(\"arguments[0].click();\",content1[i].find_element(By.XPATH,\".//h2//a\")) # entering in each element to get the seller\n",
    "\n",
    "        time.sleep(2) # sleeping to load the page completely\n",
    "\n",
    "        driver.switch_to.window(driver.window_handles[1]) # to shift the driver to new window\n",
    "        time.sleep(2)\n",
    "\n",
    "        # getting the seller if product in stock otherwise nothing.\n",
    "        try:\n",
    "            seller.append(driver.find_elements(By.XPATH,\"//div[@id='merchant-info']//a\")[0].text)\n",
    "        except:\n",
    "            seller.append('')\n",
    "        driver.close() # closing the window\n",
    "        time.sleep(2)\n",
    "        driver.switch_to.window(driver.window_handles[0])\n",
    "        time.sleep(2)\n",
    "\n",
    "\n",
    "# for pagination \n",
    "while True:\n",
    "    try:\n",
    "        finding_page()\n",
    "        count+=1\n",
    "        driver.execute_script(\"arguments[0].click();\",driver.find_element(By.XPATH,\"//a[@class='s-pagination-item s-pagination-next s-pagination-button s-pagination-separator']\"))\n",
    "        time.sleep(2)\n",
    "    except:\n",
    "        break    \n",
    "    \n",
    "    "
   ]
  },
  {
   "cell_type": "code",
   "execution_count": null,
   "id": "25490e8c",
   "metadata": {},
   "outputs": [],
   "source": [
    "# creating dataframe\n",
    "\n",
    "df=pd.DataFrame(list(zip(product_name,price,rating,seller)),columns=['Product Name','Price','Rating','Seller'])\n",
    "df"
   ]
  },
  {
   "cell_type": "code",
   "execution_count": null,
   "id": "d2b88917",
   "metadata": {},
   "outputs": [],
   "source": [
    "df.to_csv(\"Project.csv\") # creating the csv file"
   ]
  }
 ],
 "metadata": {
  "kernelspec": {
   "display_name": "Python 3",
   "language": "python",
   "name": "python3"
  },
  "language_info": {
   "codemirror_mode": {
    "name": "ipython",
    "version": 3
   },
   "file_extension": ".py",
   "mimetype": "text/x-python",
   "name": "python",
   "nbconvert_exporter": "python",
   "pygments_lexer": "ipython3",
   "version": "3.8.8"
  }
 },
 "nbformat": 4,
 "nbformat_minor": 5
}
